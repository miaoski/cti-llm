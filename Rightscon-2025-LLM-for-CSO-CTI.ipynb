{
 "cells": [
  {
   "cell_type": "markdown",
   "id": "12c92d90-33ff-457d-8805-0b21d4f76940",
   "metadata": {},
   "source": [
    "# Actionable Intelligence: Open Source Intelligence, LLM and Knowledge Graph for CSOs\t\n",
    "\n",
    "A talk by [miaoski](https://miaoski.github.io/) and GD at RightsCon 2025.\n",
    "\n",
    "*Civil Society Cyber Shield (CSCS) / Open Culture Foundation*\n",
    "\n",
    "<img src=\"img/cscs-logo.png\" width=\"20%\" /> <img src=\"img/OCF-logo.png\" width=\"20%\" />\n",
    "\n",
    "## Why?\n",
    "\n",
    "CSO might not have the resource to collect, monitor, and analyze Cyber Threat Intelligence about their daily operation.\n",
    "\n",
    "## Goals\n",
    "\n",
    "- To collect, summarize, visualize and most importantly prioritize actionable intelligence\n",
    "- To improve the (cyber)security of the organizations and individuals."
   ]
  },
  {
   "cell_type": "markdown",
   "id": "5d6e6dbc-301c-4ffe-b36b-6ba22565b398",
   "metadata": {},
   "source": [
    "## Define the Priority Intelligence Requirements (PIR)\n",
    "\n",
    "Cyber Underground General Intelligence Requirements Handbook ([CU-GIRH](https://intel471.com/resources/cyber-underground-handbook)) from Intel 471 is a very handy reference. It is compatible with [OASIS STIX 2.1](https://docs.oasis-open.org/cti/stix/v2.1/os/stix-v2.1-os.html).\n",
    "\n",
    "<img src=\"img/CU-GIRH.png\" width=\"30%\" />\n",
    "\n",
    "The handbook provides a thorough list of General Intelligence Requirements (GIRs), from which a CSO can decide what are the most important / concerning items. \n",
    "\n",
    "<img src=\"img/CU-GIRH-1.png\" width=\"50%\" />\n",
    "<img src=\"img/CU-GIRH-2.png\" width=\"50%\" />\n",
    "\n",
    "You are encouraged to download the book and attend their workshop (if available), as their **Intelligence Planning Workbook** is not publicly available. The workbook looks like this.\n",
    "\n",
    "![Sample Collection Plan](img/Intel-Planning-Workbook.png)"
   ]
  },
  {
   "cell_type": "markdown",
   "id": "d0d8292a-65e4-4bee-97b1-89458d6ce7ea",
   "metadata": {},
   "source": [
    "## Set Google alerts\n",
    "\n",
    "After defining what most concerns you, use a Googel Account, preferably the automation account in your G-Suite for NGO plan, to subscribe to Google Alerts. For example, for Tibetan CSO and Uyghur CSO, they might want to use these keywords:\n",
    "- Cybersecurity Tibet\n",
    "- Cybersecurity Uyghur\n",
    "- Spyware Uyghur\n",
    "- Trend Micro Uyghur\n",
    "- Unit42 Tibet\n",
    "- etc.\n",
    "\n",
    "It is recommended to select \"All Language\" / \"Any Region\".\n",
    "\n",
    "<img src=\"img/Cybersecurity Tibet.png\" width=\"50%\" /><img src=\"img/Spyware Alert.png\" width=\"50%\" />"
   ]
  },
  {
   "cell_type": "markdown",
   "id": "b2c6d7e5-cba2-435e-95c0-cb17519e3778",
   "metadata": {},
   "source": [
    "## Receive alerts via email\n",
    "Sooner or later, you get incoming alerts in your mailbox. For example,\n",
    "\n",
    "<img src=\"img/AP.png\" width=\"50%\" />\n",
    "<img src=\"img/The Record.png\" width=\"50%\" />\n",
    "\n",
    "Sometimes you have to click a few links to download the original threat intelligence report.\n",
    "\n",
    "<img src=\"img/VOA.png\" width=\"50%\" />\n",
    "<img src=\"img/VOA Spyware as a service.png\" width=\"50%\" />\n",
    "<img src=\"img/Download the PDF.png\" width=\"50%\" />\n",
    "<img src=\"img/TRB4 PDF.png\" width=\"50%\" />"
   ]
  },
  {
   "cell_type": "markdown",
   "id": "6284713c-d9fb-4c7c-9822-d69d027e5bf8",
   "metadata": {},
   "source": [
    "## Vendors' reports are very useful\n",
    "\n",
    "Trend Micro, Unit 42 (Palo Alto Networks), CISCO Talos, Google Threat Intelligence, Recorded Future, ... are all industrial leaders. Their threat analysis reports are of good quality.\n",
    "\n",
    "<img src=\"img/Trend Micro - Moonshine EK.png\" width=\"50%\" />\n",
    "<img src=\"img/Google Blog.png\" width=\"50%\" />"
   ]
  },
  {
   "cell_type": "markdown",
   "id": "c3ad6005-775b-4dd9-b3ab-0149eb73e5f5",
   "metadata": {},
   "source": [
    "## Paste the URLs to the Notebook\n",
    "\n",
    "Just paste the URLs from the incoming alerts here.\n",
    "\n",
    "⚠️ Some website doesn't welcome automation scripts. We found most cybersecurity vendors are willing to share, though."
   ]
  },
  {
   "cell_type": "code",
   "execution_count": 3,
   "id": "4a76418a-ad88-4c19-bd60-c8be892c77b4",
   "metadata": {},
   "outputs": [],
   "source": [
    "import os\n",
    "import requests\n",
    "HTML_SOURCE_PATH = './source'"
   ]
  },
  {
   "cell_type": "code",
   "execution_count": 18,
   "id": "6f97633f-ffb4-4f99-a6d3-24af7619eddf",
   "metadata": {},
   "outputs": [
    {
     "name": "stdout",
     "output_type": "stream",
     "text": [
      "⏭ Already downloaded: https://cloud.google.com/blog/topics/threat-intelligence/pro-prc-haienergy-us-news\n",
      "⏭ Already downloaded: https://edition.cnn.com/2021/03/24/tech/uyghurs-hacking/index.html\n",
      "⏭ Already downloaded: https://www.trendmicro.com/en_us/research/24/l/earth-minotaur.html\n",
      "⏭ Already downloaded: https://therecord.media/china-linked-tibetan-group-hacked-sites\n",
      "⏭ Already downloaded: https://www.lookout.com/threat-intelligence/article/badbazaar-surveillanceware-apt15\n",
      "⏭ Already downloaded: https://cloud.google.com/blog/topics/threat-intelligence/pro-prc-haienergy-us-news\n"
     ]
    }
   ],
   "source": [
    "# Download the URL\n",
    "URLS = \"\"\"\\\n",
    "https://cloud.google.com/blog/topics/threat-intelligence/pro-prc-haienergy-us-news\n",
    "https://edition.cnn.com/2021/03/24/tech/uyghurs-hacking/index.html\n",
    "https://www.trendmicro.com/en_us/research/24/l/earth-minotaur.html\n",
    "https://therecord.media/china-linked-tibetan-group-hacked-sites\n",
    "https://www.lookout.com/threat-intelligence/article/badbazaar-surveillanceware-apt15\n",
    "https://cloud.google.com/blog/topics/threat-intelligence/pro-prc-haienergy-us-news\n",
    "\"\"\"\n",
    "\n",
    "def do_scrape(url):\n",
    "    \"\"\"Equivalent to\n",
    "    wget --user-agent='Mozilla/5.0 (Windows NT 10.0; Win64; x64) AppleWebKit/537.36 (KHTML, like Gecko) Chrome/116.0.0.0 Safari/537.36' -x -l 1 $1\n",
    "    \"\"\"\n",
    "    header = {\n",
    "        'User-Agent': 'Mozilla/5.0 (X11; Linux x86_64) AppleWebKit/537.36 (KHTML, like Gecko) Chrome/132.0.0.0 Safari/537.36',\n",
    "        'Referer': 'https://www.google.com/',\n",
    "        'Accept': 'text/html,application/xhtml+xml,application/xml;q=0.9,*/*;q=0.8',\n",
    "        'Accept-Encoding': 'gzip, deflate, br',\n",
    "        'Accept-Language': 'en-US,en;q=0.5',\n",
    "    }\n",
    "    source_real_path = os.path.realpath(HTML_SOURCE_PATH)\n",
    "    uri = url.split('://')[1].split('?')[0].split('#')[0].split('&')[0]\n",
    "    if os.path.exists(os.path.join(source_real_path, uri)):\n",
    "        print(f'⏭ Already downloaded: {url}')\n",
    "        return\n",
    "    r = requests.get(url, headers=header)\n",
    "    if r.status_code != 200:\n",
    "        print(f'❌ Failed to fetch {url}, status code {r.status_code}]')\n",
    "        return\n",
    "    content = r.text\n",
    "\n",
    "    # Note that we used r.url here to reflect the redirection chain\n",
    "    uri = r.url.split('://')[1].split('?')[0].split('#')[0].split('&')[0]\n",
    "    html_fn = os.path.join(source_real_path, uri)\n",
    "    if html_fn[-1] == '/':\n",
    "        html_fn += 'index.html'\n",
    "    assert os.path.realpath(html_fn)[:len(source_real_path)] == source_real_path     \n",
    "    if not os.path.exists(os.path.dirname(html_fn)):\n",
    "        os.makedirs(os.path.dirname(html_fn))\n",
    "    with open(html_fn, 'w', encoding='utf-8') as f:\n",
    "        f.write(content)\n",
    "    print(f'✅ Saved as {html_fn}')\n",
    "\n",
    "# Download 'em!\n",
    "for url in URLS.split('\\n'):\n",
    "    url = url.strip()\n",
    "    if url:\n",
    "        do_scrape(url)"
   ]
  },
  {
   "cell_type": "code",
   "execution_count": 19,
   "id": "ceef6c0e-81e4-45ae-9e83-3f017509f3e3",
   "metadata": {},
   "outputs": [
    {
     "name": "stdout",
     "output_type": "stream",
     "text": [
      "⏭ Already converted: /home/phil/miaoski/rightscon/source/edition.cnn.com/2021/03/24/tech/uyghurs-hacking/index.txt\n",
      "⏭ Already converted: /home/phil/miaoski/rightscon/source/www.trendmicro.com/en_us/research/24/l/earth-minotaur.txt\n",
      "⏭ Already converted: /home/phil/miaoski/rightscon/source/therecord.media/china-linked-tibetan-group-hacked-sites.txt\n",
      "⏭ Already converted: /home/phil/miaoski/rightscon/source/www.lookout.com/threat-intelligence/article/badbazaar-surveillanceware-apt15.txt\n",
      "⏭ Already converted: /home/phil/miaoski/rightscon/source/cloud.google.com/blog/topics/threat-intelligence/pro-prc-haienergy-us-news.txt\n"
     ]
    }
   ],
   "source": [
    "# Conver the HTML to TXT\n",
    "from html2text import HTML2Text\n",
    "from glob import glob\n",
    "import re\n",
    "\n",
    "html2text = HTML2Text()\n",
    "html2text.ignore_links = True\n",
    "html2text.ignore_images = True\n",
    "html2text.body_width = 0\n",
    "source_real_path = os.path.realpath(HTML_SOURCE_PATH)\n",
    "\n",
    "for fn in glob(source_real_path + '/**', recursive=True):\n",
    "    if not os.path.isfile(fn):\n",
    "        continue\n",
    "    if not fn.endswith('.txt'):\n",
    "        txt_fn = fn.replace('.html', '.txt')\n",
    "        if not txt_fn.endswith('.txt'):\n",
    "            txt_fn += '.txt'\n",
    "        if os.path.exists(txt_fn):\n",
    "            print(f'⏭ Already converted: {txt_fn}')\n",
    "            continue\n",
    "        print(f'📝 Converting {fn} → {txt_fn}')\n",
    "        with open(fn, encoding='utf-8') as f:\n",
    "            text = html2text.handle(f.read())\n",
    "            text = re.sub(\"\\n[ \\t]+\", \"\\n\", text)\n",
    "            text = re.sub(\"\\n\\n+\", \"\\n\\n\", text)\n",
    "        with open(txt_fn, 'w', encoding='utf-8') as f:\n",
    "            f.write(text)"
   ]
  },
  {
   "cell_type": "markdown",
   "id": "672010cd-1a7c-4dd3-a778-082b4aa8580c",
   "metadata": {},
   "source": [
    "# Extract the intelligence with OpenAI GPT-4o\n",
    "\n",
    "Or a local LLM, if you have enough computing power that runs Llama 3.3 70B or better models. It is recommended to use a model that supports tool calling."
   ]
  },
  {
   "cell_type": "code",
   "execution_count": 20,
   "id": "e7b56f61-cc4a-43f3-bcfe-2ad3ca259f6b",
   "metadata": {},
   "outputs": [],
   "source": [
    "report = open('./sources/www.trendmicro.com/en_us/research/24/l/earth-minotaur.txt').read()"
   ]
  },
  {
   "cell_type": "code",
   "execution_count": 21,
   "id": "5ecc8e87-ecb7-47b6-a0e7-716c2b3d470f",
   "metadata": {},
   "outputs": [],
   "source": [
    "import os\n",
    "import dotenv\n",
    "import instructor\n",
    "from pydantic import BaseModel, Field\n",
    "from typing import Optional\n",
    "from datetime import date\n",
    "import openai\n",
    "\n",
    "dotenv.load_dotenv()\n",
    "\n",
    "model = openai.AzureOpenAI(\n",
    "    api_version='2023-05-15',\n",
    "    azure_endpoint=os.getenv('OPENAI_API_BASE'),\n",
    "    api_key=os.getenv('OPENAI_API_KEY'))\n",
    "\n",
    "# For a local LLM, uncomment the following lines.\n",
    "# model = openai.OpenAI(\n",
    "#         base_url=\"http://192.168.2.3:11434/v1\",\n",
    "#         api_key=\"ollama\")\n",
    "\n",
    "class CTI_Report_in_STIX_21(BaseModel):\n",
    "    \"\"\"\n",
    "    Extract cyberthreat intelligence (CTI) report to structured data in STIX 2.1 spec.\n",
    "    \"\"\"\n",
    "    publish_date: date = Field(..., description=\"Publish date of the CTI report\")\n",
    "    summary: str = Field(..., description=\"One line summary of the main event in the CTI report\")\n",
    "    intrustion_set: Optional[list[str]] = Field(None, description=\"List of intrusion set (attacker, adversary) in this event, such as APT41, Void Typhoon, Pawn Storm, etc.\")\n",
    "    campaign: Optional[list[str]] = Field(None, description=\"List of attacking campaign of this event. Campaign is usually prefixed with Operation, such as Operation Dream Job.\")\n",
    "    malware: Optional[list[str]] = Field(None, description=\"List of malware, exploit kits, hacking tools used in this event, such as COBEACON, Angler Exploit Kit, China Chopper, etc.\")\n",
    "    vulnarabilities: Optional[list[str]] = Field(None, description=\"List of CVE, GHSA, ZDI numbers or named vulnerabilities being exploited in this event. Vulnerability can also have names, for example, HeartBleed, Spectre.\")\n",
    "    victim_orgs: Optional[list[str]] = Field(None, description=\"List of victim companies, NGO/CSO/NPO, communities, diasporas, governments, cloud service providers, ISP, telco, etc., which are targeted by the intrusion set(s) or attacked by the malware. Diasporas can be attacked or targeted, such as Uyghur Diaspora, Tibetan Diaspora, Russian-speaking Community, etc.\")\n",
    "    targeted_countries: Optional[list[str]] = Field(None, description=\"List of countries/regions/cities that the adversary targets in this event\")\n",
    "    targeted_software: Optional[list[str]] = Field(None, description=\"List of software being targeted/exploited in this event, for example, Windows 10, Windows 11, TOMCAT, Apache Struts, Microsoft Office, Adobe Flash\")\n",
    "    targeted_hardware: Optional[list[str]] = Field(None, description=\"List of hardware being targeted/exploited in this event. Specify the impacted model and versions, if possible. For example, Siemens S7-1200 PLC, Asus RT-AC86U version before 3.0.0.4.386_51915.\")\n",
    "\n",
    "\n",
    "# Patch the OpenAI client\n",
    "client = instructor.from_openai(model)\n",
    "\n",
    "# Extract structured data from natural language\n",
    "user_info = client.chat.completions.create(\n",
    "    # model='zac/phi4-tools',            # phi4-tools works, if you have limited VRAM\n",
    "    model=\"gpt-4o\",\n",
    "    response_model=CTI_Report_in_STIX_21,\n",
    "    messages=[{\"role\": \"user\", \"content\": report}],\n",
    ")"
   ]
  },
  {
   "cell_type": "code",
   "execution_count": 22,
   "id": "420a5995-28fd-4a3e-984e-700cd607830b",
   "metadata": {},
   "outputs": [
    {
     "data": {
      "text/plain": [
       "CTI_Report_in_STIX_21(publish_date=datetime.date(2024, 12, 5), summary=\"Trend Micro researchers investigated Earth Minotaur's use of the MOONSHINE exploit kit and the DarkNimbus backdoor to exploit Android instant messaging app vulnerabilities, targeting Tibetan and Uyghur communities for surveillance.\", intrustion_set=['Earth Minotaur'], campaign=None, malware=['MOONSHINE exploit kit', 'DarkNimbus backdoor'], vulnarabilities=['CVE-2016-1646', 'CVE-2016-5198', 'CVE-2017-5030', 'CVE-2017-5070', 'CVE-2018-6065', 'CVE-2018-17463', 'CVE-2018-17480', 'CVE-2020-6418', 'CVE-2023-3420'], victim_orgs=['Tibetan Community', 'Uyghur Community'], targeted_countries=['China'], targeted_software=['Android instant messaging apps', 'Chromium-based browsers', 'Chrome', 'Tencent Browser Server', 'WeChat', 'Facebook', 'Lazada', 'Line', 'Messenger', 'Naver', 'QQ', 'Zalo'], targeted_hardware=None)"
      ]
     },
     "execution_count": 22,
     "metadata": {},
     "output_type": "execute_result"
    }
   ],
   "source": [
    "user_info"
   ]
  },
  {
   "cell_type": "code",
   "execution_count": null,
   "id": "ac4b64e7-624f-416b-aada-1464b95da534",
   "metadata": {},
   "outputs": [],
   "source": []
  },
  {
   "cell_type": "code",
   "execution_count": null,
   "id": "268e1549-9809-47a1-9869-092aa3ff3cae",
   "metadata": {},
   "outputs": [],
   "source": []
  },
  {
   "cell_type": "code",
   "execution_count": 1,
   "id": "96fd7420-b04e-4d29-924e-d660bba48fd1",
   "metadata": {},
   "outputs": [],
   "source": [
    "import networkx as nx\n",
    "G = nx.Graph()"
   ]
  },
  {
   "cell_type": "code",
   "execution_count": 2,
   "id": "4ce36ff7-59d2-49e9-8dc2-1ca55e13e988",
   "metadata": {},
   "outputs": [
    {
     "data": {
      "image/png": "[encoded data removed]",
      "text/plain": [
       "<Figure size 432x288 with 1 Axes>"
      ]
     },
     "metadata": {},
     "output_type": "display_data"
    }
   ],
   "source": [
    "import networkx as nx\n",
    "import matplotlib.pyplot as plt\n",
    "g1 = nx.petersen_graph()\n",
    "nx.draw(g1)\n",
    "plt.show()"
   ]
  },
  {
   "cell_type": "code",
   "execution_count": null,
   "id": "525d187f-1e85-49d2-aa99-e99b75d84d6c",
   "metadata": {},
   "outputs": [],
   "source": []
  },
  {
   "cell_type": "markdown",
   "id": "aff04e66-0149-4b53-b062-fdcac3b92caf",
   "metadata": {},
   "source": [
    "# Visualization\n",
    "\n",
    "NetworkX visualization is static. If you want to move nodes around, Cytoscape is a good choice."
   ]
  },
  {
   "cell_type": "code",
   "execution_count": 3,
   "id": "15a4affe-e1a9-47de-8c4c-2546c7b8ad66",
   "metadata": {},
   "outputs": [],
   "source": [
    "import ipycytoscape"
   ]
  },
  {
   "cell_type": "code",
   "execution_count": 6,
   "id": "7226a40e-1dcb-4f4e-8d91-cae5d3f39242",
   "metadata": {},
   "outputs": [],
   "source": [
    "cyto = ipycytoscape.CytoscapeWidget()\n",
    "cyto.graph.add_graph_from_networkx(g1)\n",
    "cyto.set_layout(name='cola',\n",
    "                animate=True,\n",
    "                randomize=False)"
   ]
  },
  {
   "cell_type": "code",
   "execution_count": 7,
   "id": "0836d396-3491-41f5-b9ea-5ea9bb161541",
   "metadata": {},
   "outputs": [
    {
     "data": {
      "application/vnd.jupyter.widget-view+json": {
       "model_id": "98b831b8df554fb5aad2030d44eaef72",
       "version_major": 2,
       "version_minor": 0
      },
      "text/plain": [
       "CytoscapeWidget(cytoscape_layout={'name': 'cola', 'animate': True, 'randomize': False}, cytoscape_style=[{'sel…"
      ]
     },
     "execution_count": 7,
     "metadata": {},
     "output_type": "execute_result"
    }
   ],
   "source": [
    "cyto"
   ]
  },
  {
   "cell_type": "markdown",
   "id": "fc8ec20b-bcb5-43f1-9fb3-69f1d13a2668",
   "metadata": {},
   "source": [
    "# Dependencies\n",
    "\n",
    "The notebook uses the following pipy packages:\n",
    "- html2text==2024.2.26\n",
    "- openai==1.60.1\n",
    "- python-dotenv==1.0.1\n",
    "- instructor==1.7.2\n",
    "- pydantic==2.10.6\n",
    "- networkx==3.4.2\n",
    "\n",
    "You may want to use newer versions of the dependencies. Uncomment the next cell to install the dependencies. Remember to restart Python kernel to reload the modules.\n",
    "\n",
    "\n",
    "# License\n",
    "[CC-BY-NC-SA 4.0](https://creativecommons.org/licenses/by-nc-sa/4.0/deed.en) Open Culture Foundation, except screenshots from respective copyright holders."
   ]
  },
  {
   "cell_type": "code",
   "execution_count": null,
   "id": "f216d588-2072-402a-b269-d55a11aae5bc",
   "metadata": {},
   "outputs": [],
   "source": [
    "# !pip install html2text openai python-dotenv instructor pydantic"
   ]
  }
 ],
 "metadata": {
  "kernelspec": {
   "display_name": "Python 3 (ipykernel)",
   "language": "python",
   "name": "python3"
  },
  "language_info": {
   "codemirror_mode": {
    "name": "ipython",
    "version": 3
   },
   "file_extension": ".py",
   "mimetype": "text/x-python",
   "name": "python",
   "nbconvert_exporter": "python",
   "pygments_lexer": "ipython3",
   "version": "3.10.12"
  }
 },
 "nbformat": 4,
 "nbformat_minor": 5
}
